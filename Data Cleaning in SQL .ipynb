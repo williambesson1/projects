{
 "cells": [
  {
   "cell_type": "markdown",
   "id": "cb099430",
   "metadata": {},
   "source": [
    "# Data Cleaning in SQL\n"
   ]
  },
  {
   "cell_type": "raw",
   "id": "98ad5534",
   "metadata": {},
   "source": [
    "We're being given a dataset about \"housing\" in the United States.\n",
    "The goal here is to clean up this dataset in SQL before any further analysis. \n",
    "\n",
    "My local database is set up with PostgreSQL. Therefore some commands are catered for PostgreSQL (for ex : Position)\n",
    "\n",
    "The modified dataset can be found in my github account and was taken from https://www.kaggle.com/datasets/tmthyjames/nashville-housing-data"
   ]
  },
  {
   "cell_type": "markdown",
   "id": "2685ce54",
   "metadata": {},
   "source": [
    "## Point 1 : \n",
    "\n",
    "**Objective** : Convert column 'saledate' datatype to date data type.\n",
    "\n",
    "**Solution** : Possible with code but I decided to use Dbeaver (my db management tool) in the property settings. (Easier and faster)"
   ]
  },
  {
   "cell_type": "markdown",
   "id": "f0da0701",
   "metadata": {},
   "source": [
    "## Point 2 \n",
    "\n",
    "**Objective** : Populate missing data in the column propertyaddress:\n",
    "\n",
    "**Solution** : Use of SELF JOIN + COALESCE + UPDATE TABLE"
   ]
  },
  {
   "cell_type": "code",
   "execution_count": null,
   "id": "e3015d73",
   "metadata": {},
   "outputs": [],
   "source": [
    "select \n",
    "\ta.parcelid,\n",
    "\ta.propertyaddress, \n",
    "\tb.parcelid , \n",
    "\tb.propertyaddress,\n",
    "\tcoalesce (a.propertyaddress,b.propertyaddress) as newcolumn\n",
    "from housing a\n",
    "join housing b \n",
    "\ton a.parcelid = b.parcelid \n",
    "\tand a.id <> b.id\n",
    "where a.propertyaddress is null\n",
    "\n",
    "UPDATE housing a\n",
    "SET propertyaddress = coalesce(a.propertyaddress, b.propertyaddress)\n",
    "FROM housing b\n",
    "WHERE a.propertyaddress IS NULL\n",
    "AND a.parcelid = b.parcelid;"
   ]
  },
  {
   "cell_type": "markdown",
   "id": "b4f42b05",
   "metadata": {},
   "source": [
    "## Point 3 \n",
    "\n",
    "**Objective** : Break out propertyaddress column into individual columns \n",
    "\n",
    "**Solution**:\n",
    "\n",
    "First figure out how to extract address and city from propertyaddress column"
   ]
  },
  {
   "cell_type": "code",
   "execution_count": null,
   "id": "7919d62c",
   "metadata": {},
   "outputs": [],
   "source": [
    "select \t\n",
    "\tsubstring(propertyaddress, 1,position(',' in propertyaddress) -1) as address,\n",
    "\tsubstring(propertyaddress, position(',' in propertyaddress) + 1, length(propertyaddress)) as town\n",
    "from housing h "
   ]
  },
  {
   "cell_type": "markdown",
   "id": "87ef8385",
   "metadata": {},
   "source": [
    "*And then simply add two columns with the adequate copy pasted code above*"
   ]
  },
  {
   "cell_type": "code",
   "execution_count": null,
   "id": "734a9d4e",
   "metadata": {},
   "outputs": [],
   "source": [
    "alter table housing \n",
    "add PropertySplitAddress varchar(255);\n",
    "\n",
    "update housing \n",
    "set PropertySplitAddress = substring(propertyaddress, 1,position(',' in propertyaddress) -1)\n",
    "\n",
    "alter table housing \n",
    "add PropertySplitCity varchar(255);\n",
    "\n",
    "update housing \n",
    "set PropertySplitCity = substring(propertyaddress, position(',' in propertyaddress) + 1, length(propertyaddress))"
   ]
  },
  {
   "cell_type": "markdown",
   "id": "347a7c51",
   "metadata": {},
   "source": [
    "*There’s a fairly easier way to split columns in Postgresql.*\n",
    "*Let’s say we want to separate address, city and state on owner address. The following code would work:*"
   ]
  },
  {
   "cell_type": "code",
   "execution_count": null,
   "id": "d2a7a9f0",
   "metadata": {},
   "outputs": [],
   "source": [
    "SELECT \n",
    "    split_part(owneraddress, ',', 1) as address,\n",
    "    split_part(owneraddress, ',', 2) as city,\n",
    "    split_part(owneraddress, ',', 3) as state\n",
    "FROM housing;"
   ]
  },
  {
   "cell_type": "markdown",
   "id": "ab3a88be",
   "metadata": {},
   "source": [
    "*And then we can just add the 3 columns :*"
   ]
  },
  {
   "cell_type": "code",
   "execution_count": null,
   "id": "bcd72b9d",
   "metadata": {},
   "outputs": [],
   "source": [
    "alter table housing \n",
    "add OwnerSplitAddress varchar(255);\n",
    "\n",
    "update housing \n",
    "set ownersplitaddress = split_part(owneraddress, ',', 1);"
   ]
  },
  {
   "cell_type": "markdown",
   "id": "ac654c98",
   "metadata": {},
   "source": [
    "*That does it for the first added column ….*\n"
   ]
  },
  {
   "cell_type": "markdown",
   "id": "743dba55",
   "metadata": {},
   "source": [
    "## Point 4\n",
    "\n",
    "**Objective** : Clean up column soldasvacant inconsistencies.\n",
    "\n",
    "Sometimes we have “y” for “yes” sometimes “N” for “No”\n",
    "\n",
    "**Solution:**"
   ]
  },
  {
   "cell_type": "code",
   "execution_count": null,
   "id": "981c799d",
   "metadata": {},
   "outputs": [],
   "source": [
    "select\n",
    "\tdistinct(soldasvacant),\n",
    "\tcount(soldasvacant)\n",
    "from housing\n",
    "group by distinct(soldasvacant);\n",
    "\n",
    "\n",
    "We can now create the select statement …\n",
    "\n",
    "select \n",
    "\tsoldasvacant, \n",
    "\tcase when soldasvacant = 'N' then 'No'\n",
    "\t\t when soldasvacant  = 'Y' then 'Yes'\n",
    "\telse soldasvacant \n",
    "\tend as newcolumn\n",
    "from housing;\n",
    "\t\n",
    "And correct the column :\n",
    "\n",
    "update housing\n",
    "set soldasvacant = \n",
    "\tcase when soldasvacant = 'N' then 'No'\n",
    "\t\t when soldasvacant  = 'Y' then 'Yes'\n",
    "\t\t\telse soldasvacant \n",
    "\t\t\tend\n"
   ]
  },
  {
   "cell_type": "markdown",
   "id": "6cc4b1cf",
   "metadata": {},
   "source": [
    "## Point 5 \n",
    "\n",
    "**Objective** : remove duplicates\n",
    "\n",
    "**Solution** : Excel! Much easier than in SQL with CTE statements."
   ]
  },
  {
   "cell_type": "markdown",
   "id": "831715bf",
   "metadata": {},
   "source": [
    "## POINT 6\n",
    "\n",
    "**Objective** : DROP columns\n"
   ]
  },
  {
   "cell_type": "code",
   "execution_count": null,
   "id": "720657c1",
   "metadata": {},
   "outputs": [],
   "source": [
    "Alter table housing\n",
    "drop column owneraddress, \n",
    "drop column taxdistrict;"
   ]
  },
  {
   "cell_type": "code",
   "execution_count": null,
   "id": "6fb6571e",
   "metadata": {},
   "outputs": [],
   "source": []
  }
 ],
 "metadata": {
  "kernelspec": {
   "display_name": "Python 3 (ipykernel)",
   "language": "python",
   "name": "python3"
  },
  "language_info": {
   "codemirror_mode": {
    "name": "ipython",
    "version": 3
   },
   "file_extension": ".py",
   "mimetype": "text/x-python",
   "name": "python",
   "nbconvert_exporter": "python",
   "pygments_lexer": "ipython3",
   "version": "3.10.7"
  }
 },
 "nbformat": 4,
 "nbformat_minor": 5
}
